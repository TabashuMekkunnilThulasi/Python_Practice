{
 "cells": [
  {
   "cell_type": "markdown",
   "id": "5d3bd1d0",
   "metadata": {},
   "source": [
    "Breadth-First Search (BFS) Implementation😊"
   ]
  },
  {
   "cell_type": "code",
   "execution_count": 12,
   "id": "11419013",
   "metadata": {},
   "outputs": [
    {
     "name": "stdout",
     "output_type": "stream",
     "text": [
      "BFS Traversal Order: ['A', 'B', 'C', 'D', 'E', 'F']\n"
     ]
    }
   ],
   "source": [
    "from collections import deque\n",
    "\n",
    "\n",
    "def bfs(graph, start_node):\n",
    "\n",
    "   \n",
    "    visited = set()  # To keep track of visited nodes\n",
    "    queue = deque([start_node])  # Initialize the queue with the start node\n",
    "    traversal_order = []  # To store the order of traversal\n",
    "    \n",
    "    while queue:\n",
    "        node = queue.popleft()  # Remove the first node in the queue\n",
    "        if node not in visited:\n",
    "            visited.add(node)  # Mark the node as visited\n",
    "            traversal_order.append(node)  # Add it to the traversal order\n",
    "            \n",
    "            # Add all unvisited neighbors to the queue\n",
    "            for neighbor in graph.get(node, []):\n",
    "                if neighbor not in visited:\n",
    "                    queue.append(neighbor)\n",
    "    \n",
    "    return traversal_order\n",
    "\n",
    "graph = {\n",
    "    'A': ['B', 'C'],\n",
    "    'B': ['D', 'E'],\n",
    "    'C': ['F'],\n",
    "    'D': [],\n",
    "    'E': ['F'],\n",
    "    'F': []\n",
    "}\n",
    "\n",
    "start_node = 'A'\n",
    "print(\"BFS Traversal Order:\", bfs(graph, start_node))\n"
   ]
  },
  {
   "cell_type": "code",
   "execution_count": null,
   "id": "5af045d7",
   "metadata": {},
   "outputs": [],
   "source": []
  },
  {
   "cell_type": "code",
   "execution_count": null,
   "id": "6cdf71aa",
   "metadata": {},
   "outputs": [],
   "source": []
  }
 ],
 "metadata": {
  "kernelspec": {
   "display_name": "Python 3 (ipykernel)",
   "language": "python",
   "name": "python3"
  },
  "language_info": {
   "codemirror_mode": {
    "name": "ipython",
    "version": 3
   },
   "file_extension": ".py",
   "mimetype": "text/x-python",
   "name": "python",
   "nbconvert_exporter": "python",
   "pygments_lexer": "ipython3",
   "version": "3.9.13"
  }
 },
 "nbformat": 4,
 "nbformat_minor": 5
}
