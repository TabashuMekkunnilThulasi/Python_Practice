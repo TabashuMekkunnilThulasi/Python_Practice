{
 "cells": [
  {
   "cell_type": "markdown",
   "id": "365ab86d",
   "metadata": {},
   "source": [
    "# Array"
   ]
  },
  {
   "cell_type": "code",
   "execution_count": 2,
   "id": "36f238e8",
   "metadata": {},
   "outputs": [
    {
     "name": "stdout",
     "output_type": "stream",
     "text": [
      "Mean: 2.5\n",
      "Product: [[13 11]\n",
      " [29 27]]\n"
     ]
    }
   ],
   "source": [
    "import numpy as np\n",
    "\n",
    "a = np.array([[1,2], [3,4]])\n",
    "b = np.array([[3,5], [5,3]])\n",
    "\n",
    "mean = np.mean(a)\n",
    "product = np.dot(a,b)\n",
    "\n",
    "print(f\"Mean: {mean}\")\n",
    "print(f\"Product: {product}\")\n"
   ]
  },
  {
   "cell_type": "code",
   "execution_count": 4,
   "id": "d48c78df",
   "metadata": {},
   "outputs": [
    {
     "name": "stdout",
     "output_type": "stream",
     "text": [
      "Original matrix:\n",
      " [[1 2 3]\n",
      " [4 5 6]\n",
      " [7 8 9]]\n",
      "Transpose of the matrix:\n",
      " [[1 4 7]\n",
      " [2 5 8]\n",
      " [3 6 9]]\n",
      "Element_wise multiplication:\n",
      " [[ 1  8 21]\n",
      " [ 8 25 48]\n",
      " [21 48 81]]\n"
     ]
    }
   ],
   "source": [
    "\n",
    "matrix = np.array([[1,2,3], \n",
    "                   [4,5,6], \n",
    "                   [7,8,9]])\n",
    "print(\"Original matrix:\\n\", matrix)\n",
    "\n",
    "transpose = matrix.T\n",
    "print(\"Transpose of the matrix:\\n\", transpose)\n",
    "\n",
    "element_wise_multiplication = matrix * transpose\n",
    "print(\"Element_wise multiplication:\\n\", element_wise_multiplication)"
   ]
  },
  {
   "cell_type": "markdown",
   "id": "9ad0e99a",
   "metadata": {},
   "source": [
    "# List"
   ]
  },
  {
   "cell_type": "markdown",
   "id": "cd6acef4",
   "metadata": {},
   "source": [
    "Find Max and Min Value"
   ]
  },
  {
   "cell_type": "code",
   "execution_count": 5,
   "id": "c0e3dd92",
   "metadata": {},
   "outputs": [
    {
     "name": "stdout",
     "output_type": "stream",
     "text": [
      "The largest value in the given list is: 86\n"
     ]
    }
   ],
   "source": [
    "nums = [12, 34, 85, 43, 56, 86, 54, 22]\n",
    "largest_value = max(nums)\n",
    "\n",
    "print(\"The largest value in the given list is:\", largest_value)"
   ]
  },
  {
   "cell_type": "code",
   "execution_count": 6,
   "id": "8821345a",
   "metadata": {},
   "outputs": [
    {
     "name": "stdout",
     "output_type": "stream",
     "text": [
      "The smallest value in the given list is: 12\n"
     ]
    }
   ],
   "source": [
    "smallest_value = min(nums)\n",
    "\n",
    "print(\"The smallest value in the given list is:\", smallest_value)"
   ]
  },
  {
   "cell_type": "code",
   "execution_count": 14,
   "id": "53409b00",
   "metadata": {},
   "outputs": [
    {
     "name": "stdout",
     "output_type": "stream",
     "text": [
      "The reversed list used slicing function [12, 34, 85, 43, 56, 86, 54, 22]\n",
      "The reversed list used reverse function [12, 34, 85, 43, 56, 86, 54, 22]\n"
     ]
    }
   ],
   "source": [
    "# Reverse the list using slicing\n",
    "reversited_list = nums[::-1]\n",
    "\n",
    "print(\"The reversed list used slicing function\", reversited_list)\n",
    "\n",
    "# Reverse the list using reverse function\n",
    "nums.reverse()\n",
    "print(\"The reversed list used reverse function\", nums)"
   ]
  },
  {
   "cell_type": "code",
   "execution_count": 10,
   "id": "6dd432a0",
   "metadata": {
    "scrolled": true
   },
   "outputs": [
    {
     "name": "stdout",
     "output_type": "stream",
     "text": [
      "The word 'apple' appears 3 time in the list\n"
     ]
    }
   ],
   "source": [
    "words = ['apple', 'kiwi', 'banana', 'apple', 'apple']\n",
    "apple_count = words.count('apple')\n",
    "\n",
    "print(\"The word 'apple' appears\", apple_count, \"time in the list\")"
   ]
  },
  {
   "cell_type": "code",
   "execution_count": 21,
   "id": "c64c9cdd",
   "metadata": {},
   "outputs": [
    {
     "name": "stdout",
     "output_type": "stream",
     "text": [
      "The sorted list in desending order is: [12, 22, 34, 43, 54, 56, 85, 86]\n",
      "The sorted list in asending order: [86, 85, 56, 54, 43, 34, 22, 12]\n",
      "The sorted list is: [12, 22, 34, 43, 54, 56, 85, 86]\n"
     ]
    }
   ],
   "source": [
    "# sort a list in Python?\n",
    "# using sort method\n",
    "\n",
    "nums.sort(reverse=False)\n",
    "print(\"The sorted list in desending order is:\", nums)\n",
    "\n",
    "nums.sort(reverse=True)\n",
    "print(\"The sorted list in asending order:\", nums)\n",
    "\n",
    "#using sorted function\n",
    "\n",
    "sorted_list = sorted(nums)\n",
    "print(\"The sorted list is:\", sorted_list)"
   ]
  },
  {
   "cell_type": "markdown",
   "id": "522d9516",
   "metadata": {},
   "source": [
    "Appending and Removing Elements"
   ]
  },
  {
   "cell_type": "code",
   "execution_count": 27,
   "id": "853860cc",
   "metadata": {},
   "outputs": [
    {
     "name": "stdout",
     "output_type": "stream",
     "text": [
      "After appending [1, 2, 3]\n",
      "After removing [1, 3]\n"
     ]
    }
   ],
   "source": [
    "my_list = []\n",
    "my_list.append(1)\n",
    "my_list.append(2)\n",
    "my_list.append(3)\n",
    "print(\"After appending\", my_list)\n",
    "\n",
    "my_list.remove(2)\n",
    "print(\"After removing\", my_list)\n",
    "\n"
   ]
  },
  {
   "cell_type": "markdown",
   "id": "1ef4b197",
   "metadata": {},
   "source": [
    "Accessing Elements"
   ]
  },
  {
   "cell_type": "code",
   "execution_count": 28,
   "id": "b717864f",
   "metadata": {},
   "outputs": [
    {
     "name": "stdout",
     "output_type": "stream",
     "text": [
      " The second element in the list is: banana\n"
     ]
    }
   ],
   "source": [
    "fruits = [\"apple\", \"banana\", \"cherry\", \"dates\"]\n",
    "print(\" The second element in the list is:\", fruits[1])"
   ]
  },
  {
   "cell_type": "markdown",
   "id": "5dac6e1e",
   "metadata": {},
   "source": [
    "Slicing"
   ]
  },
  {
   "cell_type": "code",
   "execution_count": 38,
   "id": "368bb94d",
   "metadata": {},
   "outputs": [
    {
     "name": "stdout",
     "output_type": "stream",
     "text": [
      "The original list: [1, 2, 3, 4, 5, 6, 7, 8, 9, 10]\n",
      "The scliced list: [3, 4, 5, 6]\n"
     ]
    }
   ],
   "source": [
    "numbers = list(range(1,11))\n",
    "print(\"The original list:\", numbers)\n",
    "\n",
    "scliced_numbers = numbers[2:6]\n",
    "print(\"The scliced list:\", scliced_numbers)"
   ]
  },
  {
   "cell_type": "markdown",
   "id": "3e741df9",
   "metadata": {},
   "source": [
    "# Set"
   ]
  },
  {
   "cell_type": "code",
   "execution_count": 43,
   "id": "89200ca6",
   "metadata": {},
   "outputs": [
    {
     "name": "stdout",
     "output_type": "stream",
     "text": [
      "set after adding elements: {1, 2, 3}\n",
      "set after removing 2: {1, 3}\n"
     ]
    }
   ],
   "source": [
    "my_set = set()\n",
    "my_set.add(1)\n",
    "my_set.add(2)\n",
    "my_set.add(3)\n",
    "print(\"set after adding elements:\", my_set)\n",
    "\n",
    "my_set.remove(2)\n",
    "print(\"set after removing 2:\", my_set)"
   ]
  },
  {
   "cell_type": "code",
   "execution_count": 46,
   "id": "cd30da8a",
   "metadata": {},
   "outputs": [
    {
     "name": "stdout",
     "output_type": "stream",
     "text": [
      "Union: {1, 2, 3, 4, 5, 6}\n",
      "Intersection: {1, 4}\n",
      "difference between (set1 - set2): {2, 3}\n",
      "difference between (set2 - set1): {5, 6}\n"
     ]
    }
   ],
   "source": [
    "set1 = {1, 2, 3, 4}\n",
    "set2 = {5, 6, 1, 4}\n",
    "\n",
    "union_set = set1.union(set2)\n",
    "print(\"Union:\", union_set)\n",
    "\n",
    "intersection_set = set1.intersection(set2)\n",
    "print(\"Intersection:\", intersection_set)\n",
    "\n",
    "difference_set = set1.difference(set2)\n",
    "print(\"difference between (set1 - set2):\", difference_set)\n",
    "\n",
    "difference_set_1 = set2.difference(set1)\n",
    "print(\"difference between (set2 - set1):\", difference_set_1)"
   ]
  },
  {
   "cell_type": "markdown",
   "id": "5fb06955",
   "metadata": {},
   "source": [
    "# Tuples"
   ]
  },
  {
   "cell_type": "code",
   "execution_count": 47,
   "id": "37c6d8bf",
   "metadata": {},
   "outputs": [
    {
     "name": "stdout",
     "output_type": "stream",
     "text": [
      "Latitude:  40.7128\n",
      "Longitude:  -74.006\n"
     ]
    }
   ],
   "source": [
    "coordinates = (40.7128, -74.0060)\n",
    "latitude = coordinates[0]\n",
    "longitude = coordinates[1]\n",
    "\n",
    "print(\"Latitude: \", latitude)\n",
    "print(\"Longitude: \", longitude)"
   ]
  },
  {
   "cell_type": "code",
   "execution_count": 52,
   "id": "f3ace98f",
   "metadata": {},
   "outputs": [
    {
     "name": "stdout",
     "output_type": "stream",
     "text": [
      "Name: Joan\n",
      "Age: 25\n",
      "City: New York\n"
     ]
    }
   ],
   "source": [
    "# Create a tuple (Packing)\n",
    "person = (\"Joan\", 25, \"New York\")\n",
    "\n",
    "# Unpack the tuple into individual variables\n",
    "name, age, city = person\n",
    "\n",
    "# Print the unpacked values\n",
    "print(\"Name:\", name)\n",
    "print(\"Age:\", age)\n",
    "print(\"City:\", city)\n"
   ]
  },
  {
   "cell_type": "code",
   "execution_count": 53,
   "id": "59a4c5b7",
   "metadata": {},
   "outputs": [
    {
     "data": {
      "text/plain": [
       "'C:\\\\Users\\\\HP'"
      ]
     },
     "execution_count": 53,
     "metadata": {},
     "output_type": "execute_result"
    }
   ],
   "source": [
    "%pwd\n"
   ]
  },
  {
   "cell_type": "markdown",
   "id": "78cd28f5",
   "metadata": {},
   "source": [
    "concatenate two tuples"
   ]
  },
  {
   "cell_type": "code",
   "execution_count": 54,
   "id": "d5d900e9",
   "metadata": {},
   "outputs": [
    {
     "name": "stdout",
     "output_type": "stream",
     "text": [
      "(1, 2, 3, 4, 5, 6)\n"
     ]
    }
   ],
   "source": [
    "tuple1 = (1, 2, 3)\n",
    "tuple2 = (4, 5, 6)\n",
    "\n",
    "result = tuple1 + tuple2\n",
    "\n",
    "print(result)"
   ]
  },
  {
   "cell_type": "markdown",
   "id": "b43500f8",
   "metadata": {},
   "source": [
    "create tuple of tuple and find the sum of 2nd element of each tuple"
   ]
  },
  {
   "cell_type": "code",
   "execution_count": 57,
   "id": "5657c184",
   "metadata": {},
   "outputs": [
    {
     "name": "stdout",
     "output_type": "stream",
     "text": [
      "The sum of second elements from the tuple: 12\n"
     ]
    }
   ],
   "source": [
    "nested_tuple = ((1, 2), (3, 4), (5, 6))\n",
    "\n",
    "second_element_sum = sum(t[1] for t in nested_tuple)\n",
    "\n",
    "print(\"The sum of second elements from the tuple:\", second_element_sum)"
   ]
  },
  {
   "cell_type": "markdown",
   "id": "dfe2e71a",
   "metadata": {},
   "source": [
    "create tuple of tuple and find the maximum element among the first nexted element"
   ]
  },
  {
   "cell_type": "code",
   "execution_count": 60,
   "id": "169fc62a",
   "metadata": {},
   "outputs": [
    {
     "name": "stdout",
     "output_type": "stream",
     "text": [
      "The maximum value from the 1st element is : 5\n"
     ]
    }
   ],
   "source": [
    "#nested_tuple1 = ((4, 2), (16, 4), (5, 10), (35, 100))\n",
    "\n",
    "max_first_element = max(t[0] for t in nested_tuple)\n",
    "\n",
    "print(\"The maximum value from the 1st element is :\", max_first_element)\n",
    "\n"
   ]
  },
  {
   "cell_type": "markdown",
   "id": "f5c09f30",
   "metadata": {},
   "source": [
    "create a list of tuple with employees information such as (id, name, job title, department)\n",
    "\n",
    "-store the data\n",
    "-retrive the names with their Dept for all the employees\n",
    "-create a detail of almost 4 employees"
   ]
  },
  {
   "cell_type": "code",
   "execution_count": 68,
   "id": "a32f857e",
   "metadata": {},
   "outputs": [
    {
     "name": "stdout",
     "output_type": "stream",
     "text": [
      "Employees Name and Department :\n",
      "Name: Alex, Department: IT\n",
      "Name: Rob, Department: HR\n",
      "Name: Tracy, Department: Analytics\n",
      "Name: Sue, Department: Marketing\n"
     ]
    }
   ],
   "source": [
    "employees = [(1, 'Alex', 'Software Engineer', 'IT'),\n",
    "        (2, 'Rob', 'HR Manager', 'HR'),\n",
    "        (3, 'Tracy', 'Data Engineer', 'Analytics'),\n",
    "        (4, 'Sue', 'Marketing Executive', 'Marketing')]\n",
    "\n",
    "print(\"Employees Name and Department :\")\n",
    "for employee in employees:\n",
    "    name = employee[1]\n",
    "    department = employee[3]\n",
    "    print(f\"Name: {name}, Department: {department}\")\n"
   ]
  },
  {
   "cell_type": "markdown",
   "id": "cb75f278",
   "metadata": {},
   "source": [
    "# Dictionary"
   ]
  },
  {
   "cell_type": "markdown",
   "id": "084360fb",
   "metadata": {},
   "source": [
    "Create a student database dictionary which contains the key is student name and the value is subjects"
   ]
  },
  {
   "cell_type": "code",
   "execution_count": 76,
   "id": "e7083ff0",
   "metadata": {},
   "outputs": [
    {
     "name": "stdout",
     "output_type": "stream",
     "text": [
      "{'Tabu': 'Data science', 'Arun': 'Business Management'}\n"
     ]
    }
   ],
   "source": [
    "student = {\n",
    "    'Tabu': 'Data science',\n",
    "    'Arun': 'Business Management'\n",
    "}\n",
    "\n",
    "print(student)"
   ]
  },
  {
   "cell_type": "markdown",
   "id": "503a8d7e",
   "metadata": {},
   "source": [
    "Extract a city with maximum polulation"
   ]
  },
  {
   "cell_type": "code",
   "execution_count": 78,
   "id": "9e0179dd",
   "metadata": {},
   "outputs": [
    {
     "name": "stdout",
     "output_type": "stream",
     "text": [
      "The city with maximum population is : Chicago.\n",
      "The details are : {'country': 'USA', 'population': 6383300030}.\n"
     ]
    }
   ],
   "source": [
    "cities = {\n",
    "    'New york': {'country':'USA', 'population': 87464930},\n",
    "    'Los Angles': {'country': 'USA', 'population': 4690303},\n",
    "    'Chicago': {'country': 'USA', 'population': 6383300030},\n",
    "    'Jeddah': {'country': 'USA', 'population': 2829003636},\n",
    "}\n",
    "max_city_population = max(cities.items(), key=lambda x: x[1]['population'])\n",
    "\n",
    "print(f\"The city with maximum population is : {max_city_population[0]}.\")\n",
    "print(f\"The details are : {max_city_population[1]}.\")"
   ]
  },
  {
   "cell_type": "markdown",
   "id": "c8f80d3a",
   "metadata": {},
   "source": [
    "# Panda"
   ]
  },
  {
   "cell_type": "code",
   "execution_count": 80,
   "id": "8ddfbb02",
   "metadata": {},
   "outputs": [],
   "source": [
    "import pandas as pd\n",
    "import seaborn as sns\n",
    "\n",
    "iris = sns.load_dataset(\"iris\")\n"
   ]
  },
  {
   "cell_type": "markdown",
   "id": "ff53c032",
   "metadata": {},
   "source": [
    "Exploring the data"
   ]
  },
  {
   "cell_type": "code",
   "execution_count": 81,
   "id": "9b750572",
   "metadata": {},
   "outputs": [
    {
     "name": "stdout",
     "output_type": "stream",
     "text": [
      "   sepal_length  sepal_width  petal_length  petal_width species\n",
      "0           5.1          3.5           1.4          0.2  setosa\n",
      "1           4.9          3.0           1.4          0.2  setosa\n",
      "2           4.7          3.2           1.3          0.2  setosa\n",
      "3           4.6          3.1           1.5          0.2  setosa\n",
      "4           5.0          3.6           1.4          0.2  setosa\n"
     ]
    }
   ],
   "source": [
    "#display 1st few rows\n",
    "print(iris.head(5))"
   ]
  },
  {
   "cell_type": "code",
   "execution_count": 82,
   "id": "372650dd",
   "metadata": {},
   "outputs": [
    {
     "name": "stdout",
     "output_type": "stream",
     "text": [
      "     sepal_length  sepal_width  petal_length  petal_width    species\n",
      "145           6.7          3.0           5.2          2.3  virginica\n",
      "146           6.3          2.5           5.0          1.9  virginica\n",
      "147           6.5          3.0           5.2          2.0  virginica\n",
      "148           6.2          3.4           5.4          2.3  virginica\n",
      "149           5.9          3.0           5.1          1.8  virginica\n"
     ]
    }
   ],
   "source": [
    "#display last few rows\n",
    "print(iris.tail(5))"
   ]
  },
  {
   "cell_type": "code",
   "execution_count": 86,
   "id": "3fea2961",
   "metadata": {},
   "outputs": [
    {
     "name": "stdout",
     "output_type": "stream",
     "text": [
      "        sepal_length  sepal_width  petal_length  petal_width species\n",
      "count     150.000000   150.000000    150.000000   150.000000     150\n",
      "unique           NaN          NaN           NaN          NaN       3\n",
      "top              NaN          NaN           NaN          NaN  setosa\n",
      "freq             NaN          NaN           NaN          NaN      50\n",
      "mean        5.843333     3.057333      3.758000     1.199333     NaN\n",
      "std         0.828066     0.435866      1.765298     0.762238     NaN\n",
      "min         4.300000     2.000000      1.000000     0.100000     NaN\n",
      "25%         5.100000     2.800000      1.600000     0.300000     NaN\n",
      "50%         5.800000     3.000000      4.350000     1.300000     NaN\n",
      "75%         6.400000     3.300000      5.100000     1.800000     NaN\n",
      "max         7.900000     4.400000      6.900000     2.500000     NaN\n"
     ]
    }
   ],
   "source": [
    "#statistical summary\n",
    "print(iris.describe(include='all'))"
   ]
  },
  {
   "cell_type": "code",
   "execution_count": 91,
   "id": "c3014e3b",
   "metadata": {},
   "outputs": [
    {
     "name": "stdout",
     "output_type": "stream",
     "text": [
      "sepal_length    0\n",
      "sepal_width     0\n",
      "petal_length    0\n",
      "petal_width     0\n",
      "species         0\n",
      "dtype: int64\n"
     ]
    }
   ],
   "source": [
    "#missing value\n",
    "print(iris.isnull().sum())"
   ]
  },
  {
   "cell_type": "markdown",
   "id": "1a2f565e",
   "metadata": {},
   "source": [
    "Basic operation"
   ]
  },
  {
   "cell_type": "code",
   "execution_count": 93,
   "id": "3d2069f3",
   "metadata": {},
   "outputs": [
    {
     "name": "stdout",
     "output_type": "stream",
     "text": [
      "0         setosa\n",
      "1         setosa\n",
      "2         setosa\n",
      "3         setosa\n",
      "4         setosa\n",
      "         ...    \n",
      "145    virginica\n",
      "146    virginica\n",
      "147    virginica\n",
      "148    virginica\n",
      "149    virginica\n",
      "Name: species, Length: 150, dtype: object\n"
     ]
    }
   ],
   "source": [
    "#selecting the data\n",
    "\n",
    "#by single column\n",
    "\n",
    "species_column = iris['species']\n",
    "print(species_column)"
   ]
  },
  {
   "cell_type": "code",
   "execution_count": 97,
   "id": "e851e4b0",
   "metadata": {},
   "outputs": [
    {
     "name": "stdout",
     "output_type": "stream",
     "text": [
      "       species  sepal_length\n",
      "0       setosa           5.1\n",
      "1       setosa           4.9\n",
      "2       setosa           4.7\n",
      "3       setosa           4.6\n",
      "4       setosa           5.0\n",
      "..         ...           ...\n",
      "145  virginica           6.7\n",
      "146  virginica           6.3\n",
      "147  virginica           6.5\n",
      "148  virginica           6.2\n",
      "149  virginica           5.9\n",
      "\n",
      "[150 rows x 2 columns]\n"
     ]
    }
   ],
   "source": [
    "#by multiple column\n",
    "selected_column = iris[['species', 'sepal_length']]\n",
    "print(selected_column)"
   ]
  },
  {
   "cell_type": "code",
   "execution_count": 98,
   "id": "a0485e1d",
   "metadata": {},
   "outputs": [
    {
     "name": "stdout",
     "output_type": "stream",
     "text": [
      "   sepal_length  sepal_width  petal_length  petal_width species\n",
      "0           5.1          3.5           1.4          0.2  setosa\n",
      "1           4.9          3.0           1.4          0.2  setosa\n",
      "2           4.7          3.2           1.3          0.2  setosa\n"
     ]
    }
   ],
   "source": [
    "#by row index\n",
    "first_three_rows = iris.iloc[:3]\n",
    "print(first_three_rows)"
   ]
  },
  {
   "cell_type": "code",
   "execution_count": 100,
   "id": "ad462b39",
   "metadata": {},
   "outputs": [
    {
     "name": "stdout",
     "output_type": "stream",
     "text": [
      "   sepal_length  sepal_width  petal_length  petal_width species\n",
      "0           5.1          3.5           1.4          0.2  setosa\n",
      "2           4.7          3.2           1.3          0.2  setosa\n",
      "3           4.6          3.1           1.5          0.2  setosa\n",
      "4           5.0          3.6           1.4          0.2  setosa\n"
     ]
    }
   ],
   "source": [
    "#selecting the specific rows\n",
    "specific_row = iris.iloc[[0, 2, 3, 4]]\n",
    "print(specific_row)"
   ]
  },
  {
   "cell_type": "code",
   "execution_count": 103,
   "id": "23ad3c78",
   "metadata": {},
   "outputs": [
    {
     "name": "stdout",
     "output_type": "stream",
     "text": [
      "   sepal_length  sepal_width\n",
      "0           5.1          3.5\n",
      "1           4.9          3.0\n",
      "2           4.7          3.2\n"
     ]
    }
   ],
   "source": [
    "#selecting the specific rows and colums\n",
    "specific_row_col = iris.iloc[0:3, 0:2]\n",
    "print(specific_row_col)"
   ]
  },
  {
   "cell_type": "code",
   "execution_count": 106,
   "id": "6261dd38",
   "metadata": {},
   "outputs": [
    {
     "name": "stdout",
     "output_type": "stream",
     "text": [
      "     sepal_length  sepal_width  petal_length  petal_width    species\n",
      "0             5.1          3.5           1.4          0.2     setosa\n",
      "5             5.4          3.9           1.7          0.4     setosa\n",
      "10            5.4          3.7           1.5          0.2     setosa\n",
      "14            5.8          4.0           1.2          0.2     setosa\n",
      "15            5.7          4.4           1.5          0.4     setosa\n",
      "..            ...          ...           ...          ...        ...\n",
      "145           6.7          3.0           5.2          2.3  virginica\n",
      "146           6.3          2.5           5.0          1.9  virginica\n",
      "147           6.5          3.0           5.2          2.0  virginica\n",
      "148           6.2          3.4           5.4          2.3  virginica\n",
      "149           5.9          3.0           5.1          1.8  virginica\n",
      "\n",
      "[118 rows x 5 columns]\n"
     ]
    }
   ],
   "source": [
    "#filtering\n",
    "filtered_data = iris[iris['sepal_length'] > 5]\n",
    "print(filtered_data)"
   ]
  },
  {
   "cell_type": "code",
   "execution_count": 107,
   "id": "efe184e4",
   "metadata": {},
   "outputs": [
    {
     "name": "stdout",
     "output_type": "stream",
     "text": [
      "     sepal_length  sepal_width  petal_length  petal_width     species\n",
      "83            6.0          2.7           5.1          1.6  versicolor\n",
      "100           6.3          3.3           6.0          2.5   virginica\n",
      "101           5.8          2.7           5.1          1.9   virginica\n",
      "102           7.1          3.0           5.9          2.1   virginica\n",
      "103           6.3          2.9           5.6          1.8   virginica\n",
      "104           6.5          3.0           5.8          2.2   virginica\n",
      "105           7.6          3.0           6.6          2.1   virginica\n",
      "107           7.3          2.9           6.3          1.8   virginica\n",
      "108           6.7          2.5           5.8          1.8   virginica\n",
      "109           7.2          3.6           6.1          2.5   virginica\n",
      "110           6.5          3.2           5.1          2.0   virginica\n",
      "111           6.4          2.7           5.3          1.9   virginica\n",
      "112           6.8          3.0           5.5          2.1   virginica\n",
      "114           5.8          2.8           5.1          2.4   virginica\n",
      "115           6.4          3.2           5.3          2.3   virginica\n",
      "116           6.5          3.0           5.5          1.8   virginica\n",
      "117           7.7          3.8           6.7          2.2   virginica\n",
      "118           7.7          2.6           6.9          2.3   virginica\n",
      "120           6.9          3.2           5.7          2.3   virginica\n",
      "122           7.7          2.8           6.7          2.0   virginica\n",
      "124           6.7          3.3           5.7          2.1   virginica\n",
      "125           7.2          3.2           6.0          1.8   virginica\n",
      "128           6.4          2.8           5.6          2.1   virginica\n",
      "129           7.2          3.0           5.8          1.6   virginica\n",
      "130           7.4          2.8           6.1          1.9   virginica\n",
      "131           7.9          3.8           6.4          2.0   virginica\n",
      "132           6.4          2.8           5.6          2.2   virginica\n",
      "133           6.3          2.8           5.1          1.5   virginica\n",
      "134           6.1          2.6           5.6          1.4   virginica\n",
      "135           7.7          3.0           6.1          2.3   virginica\n",
      "136           6.3          3.4           5.6          2.4   virginica\n",
      "137           6.4          3.1           5.5          1.8   virginica\n",
      "139           6.9          3.1           5.4          2.1   virginica\n",
      "140           6.7          3.1           5.6          2.4   virginica\n",
      "141           6.9          3.1           5.1          2.3   virginica\n",
      "142           5.8          2.7           5.1          1.9   virginica\n",
      "143           6.8          3.2           5.9          2.3   virginica\n",
      "144           6.7          3.3           5.7          2.5   virginica\n",
      "145           6.7          3.0           5.2          2.3   virginica\n",
      "147           6.5          3.0           5.2          2.0   virginica\n",
      "148           6.2          3.4           5.4          2.3   virginica\n",
      "149           5.9          3.0           5.1          1.8   virginica\n"
     ]
    }
   ],
   "source": [
    "filtered_data = iris[iris['petal_length'] > 5]\n",
    "print(filtered_data)"
   ]
  },
  {
   "cell_type": "code",
   "execution_count": 113,
   "id": "6be8487b",
   "metadata": {},
   "outputs": [
    {
     "name": "stdout",
     "output_type": "stream",
     "text": [
      "     sepal_length  sepal_width  petal_length  petal_width    species\n",
      "13            4.3          3.0           1.1          0.1     setosa\n",
      "42            4.4          3.2           1.3          0.2     setosa\n",
      "38            4.4          3.0           1.3          0.2     setosa\n",
      "8             4.4          2.9           1.4          0.2     setosa\n",
      "41            4.5          2.3           1.3          0.3     setosa\n",
      "..            ...          ...           ...          ...        ...\n",
      "122           7.7          2.8           6.7          2.0  virginica\n",
      "118           7.7          2.6           6.9          2.3  virginica\n",
      "117           7.7          3.8           6.7          2.2  virginica\n",
      "135           7.7          3.0           6.1          2.3  virginica\n",
      "131           7.9          3.8           6.4          2.0  virginica\n",
      "\n",
      "[150 rows x 5 columns]\n",
      "     sepal_length  sepal_width  petal_length  petal_width    species\n",
      "118           7.7          2.6           6.9          2.3  virginica\n",
      "122           7.7          2.8           6.7          2.0  virginica\n",
      "117           7.7          3.8           6.7          2.2  virginica\n",
      "105           7.6          3.0           6.6          2.1  virginica\n",
      "131           7.9          3.8           6.4          2.0  virginica\n",
      "..            ...          ...           ...          ...        ...\n",
      "16            5.4          3.9           1.3          0.4     setosa\n",
      "35            5.0          3.2           1.2          0.2     setosa\n",
      "14            5.8          4.0           1.2          0.2     setosa\n",
      "13            4.3          3.0           1.1          0.1     setosa\n",
      "22            4.6          3.6           1.0          0.2     setosa\n",
      "\n",
      "[150 rows x 5 columns]\n"
     ]
    }
   ],
   "source": [
    "#sorting data\n",
    "sorting_data_asc = iris.sort_values(by='sepal_length')\n",
    "sorting_data_desc = iris.sort_values(by='petal_length', ascending=False)\n",
    "print(sorting_data_asc)\n",
    "\n",
    "print(sorting_data_desc)\n"
   ]
  },
  {
   "cell_type": "code",
   "execution_count": 115,
   "id": "920cfea8",
   "metadata": {},
   "outputs": [
    {
     "name": "stdout",
     "output_type": "stream",
     "text": [
      "   sepal_length  sepal_width  petal_length  petal_width species  sepal_area\n",
      "0           5.1          3.5           1.4          0.2  setosa       17.85\n",
      "1           4.9          3.0           1.4          0.2  setosa       14.70\n",
      "2           4.7          3.2           1.3          0.2  setosa       15.04\n",
      "3           4.6          3.1           1.5          0.2  setosa       14.26\n",
      "4           5.0          3.6           1.4          0.2  setosa       18.00\n"
     ]
    }
   ],
   "source": [
    "#Modifying data\n",
    "\n",
    "#adding a new column\n",
    "iris['sepal_area'] = iris['sepal_length'] * iris['sepal_width']\n",
    "print(iris.head())"
   ]
  },
  {
   "cell_type": "code",
   "execution_count": 117,
   "id": "480c331e",
   "metadata": {},
   "outputs": [
    {
     "name": "stdout",
     "output_type": "stream",
     "text": [
      "   sepal_length  sepal_width  petal_length  petal_width species\n",
      "0           5.1          3.5           1.4          0.2  setosa\n",
      "1           4.9          3.0           1.4          0.2  setosa\n",
      "2           4.7          3.2           1.3          0.2  setosa\n",
      "3           4.6          3.1           1.5          0.2  setosa\n",
      "4           5.0          3.6           1.4          0.2  setosa\n"
     ]
    }
   ],
   "source": [
    "#drop a column\n",
    "iris.drop(columns=['sepal_area'], inplace = True)\n",
    "print(iris.head())"
   ]
  },
  {
   "cell_type": "code",
   "execution_count": 118,
   "id": "e61ee6b9",
   "metadata": {},
   "outputs": [
    {
     "name": "stdout",
     "output_type": "stream",
     "text": [
      "            sepal_length  sepal_width  petal_length  petal_width\n",
      "species                                                         \n",
      "setosa             5.006        3.428         1.462        0.246\n",
      "versicolor         5.936        2.770         4.260        1.326\n",
      "virginica          6.588        2.974         5.552        2.026\n"
     ]
    }
   ],
   "source": [
    "#Aggregation and groupBy\n",
    "avg = iris.groupby('species').mean()\n",
    "print(avg)"
   ]
  },
  {
   "cell_type": "code",
   "execution_count": 126,
   "id": "911f3c74",
   "metadata": {},
   "outputs": [],
   "source": [
    "#save the data\n",
    "iris.to_csv('iris_data_csv',index=False)\n",
    "\n",
    "iris.to_excel('iris_data.xlsx', index=False)\n"
   ]
  },
  {
   "cell_type": "code",
   "execution_count": null,
   "id": "36fb2bbe",
   "metadata": {},
   "outputs": [],
   "source": []
  },
  {
   "cell_type": "code",
   "execution_count": null,
   "id": "7fd28d02",
   "metadata": {},
   "outputs": [],
   "source": []
  },
  {
   "cell_type": "code",
   "execution_count": null,
   "id": "2f1629d9",
   "metadata": {},
   "outputs": [],
   "source": []
  }
 ],
 "metadata": {
  "kernelspec": {
   "display_name": "Python 3 (ipykernel)",
   "language": "python",
   "name": "python3"
  },
  "language_info": {
   "codemirror_mode": {
    "name": "ipython",
    "version": 3
   },
   "file_extension": ".py",
   "mimetype": "text/x-python",
   "name": "python",
   "nbconvert_exporter": "python",
   "pygments_lexer": "ipython3",
   "version": "3.9.13"
  }
 },
 "nbformat": 4,
 "nbformat_minor": 5
}
