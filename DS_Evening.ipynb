{
 "cells": [
  {
   "cell_type": "markdown",
   "id": "2d1b57c4",
   "metadata": {},
   "source": [
    "Array"
   ]
  },
  {
   "cell_type": "code",
   "execution_count": 2,
   "id": "8d6136c3",
   "metadata": {},
   "outputs": [
    {
     "name": "stdout",
     "output_type": "stream",
     "text": [
      "Mean: 2.5\n",
      "Product: [[13 11]\n",
      " [29 27]]\n"
     ]
    }
   ],
   "source": [
    "import numpy as np\n",
    "\n",
    "a = np.array([[1,2], [3,4]])\n",
    "b = np.array([[3,5], [5,3]])\n",
    "\n",
    "mean = np.mean(a)\n",
    "product = np.dot(a,b)\n",
    "\n",
    "print(f\"Mean: {mean}\")\n",
    "print(f\"Product: {product}\")\n"
   ]
  },
  {
   "cell_type": "code",
   "execution_count": 4,
   "id": "7126cae5",
   "metadata": {},
   "outputs": [
    {
     "name": "stdout",
     "output_type": "stream",
     "text": [
      "Original matrix:\n",
      " [[1 2 3]\n",
      " [4 5 6]\n",
      " [7 8 9]]\n",
      "Transpose of the matrix:\n",
      " [[1 4 7]\n",
      " [2 5 8]\n",
      " [3 6 9]]\n",
      "Element_wise multiplication:\n",
      " [[ 1  8 21]\n",
      " [ 8 25 48]\n",
      " [21 48 81]]\n"
     ]
    }
   ],
   "source": [
    "\n",
    "matrix = np.array([[1,2,3], \n",
    "                   [4,5,6], \n",
    "                   [7,8,9]])\n",
    "print(\"Original matrix:\\n\", matrix)\n",
    "\n",
    "transpose = matrix.T\n",
    "print(\"Transpose of the matrix:\\n\", transpose)\n",
    "\n",
    "element_wise_multiplication = matrix * transpose\n",
    "print(\"Element_wise multiplication:\\n\", element_wise_multiplication)"
   ]
  },
  {
   "cell_type": "markdown",
   "id": "9d5e9cb4",
   "metadata": {},
   "source": [
    "List"
   ]
  },
  {
   "cell_type": "markdown",
   "id": "384b991a",
   "metadata": {},
   "source": [
    "Find Max and Min Value"
   ]
  },
  {
   "cell_type": "code",
   "execution_count": 5,
   "id": "e683eb27",
   "metadata": {},
   "outputs": [
    {
     "name": "stdout",
     "output_type": "stream",
     "text": [
      "The largest value in the given list is: 86\n"
     ]
    }
   ],
   "source": [
    "nums = [12, 34, 85, 43, 56, 86, 54, 22]\n",
    "largest_value = max(nums)\n",
    "\n",
    "print(\"The largest value in the given list is:\", largest_value)"
   ]
  },
  {
   "cell_type": "code",
   "execution_count": 6,
   "id": "f435e71f",
   "metadata": {},
   "outputs": [
    {
     "name": "stdout",
     "output_type": "stream",
     "text": [
      "The smallest value in the given list is: 12\n"
     ]
    }
   ],
   "source": [
    "smallest_value = min(nums)\n",
    "\n",
    "print(\"The smallest value in the given list is:\", smallest_value)"
   ]
  },
  {
   "cell_type": "code",
   "execution_count": 14,
   "id": "43b9f19a",
   "metadata": {},
   "outputs": [
    {
     "name": "stdout",
     "output_type": "stream",
     "text": [
      "The reversed list used slicing function [12, 34, 85, 43, 56, 86, 54, 22]\n",
      "The reversed list used reverse function [12, 34, 85, 43, 56, 86, 54, 22]\n"
     ]
    }
   ],
   "source": [
    "# Reverse the list using slicing\n",
    "reversited_list = nums[::-1]\n",
    "\n",
    "print(\"The reversed list used slicing function\", reversited_list)\n",
    "\n",
    "# Reverse the list using reverse function\n",
    "nums.reverse()\n",
    "print(\"The reversed list used reverse function\", nums)"
   ]
  },
  {
   "cell_type": "code",
   "execution_count": 10,
   "id": "bccc98ec",
   "metadata": {
    "scrolled": true
   },
   "outputs": [
    {
     "name": "stdout",
     "output_type": "stream",
     "text": [
      "The word 'apple' appears 3 time in the list\n"
     ]
    }
   ],
   "source": [
    "words = ['apple', 'kiwi', 'banana', 'apple', 'apple']\n",
    "apple_count = words.count('apple')\n",
    "\n",
    "print(\"The word 'apple' appears\", apple_count, \"time in the list\")"
   ]
  },
  {
   "cell_type": "code",
   "execution_count": 21,
   "id": "c4e89733",
   "metadata": {},
   "outputs": [
    {
     "name": "stdout",
     "output_type": "stream",
     "text": [
      "The sorted list in desending order is: [12, 22, 34, 43, 54, 56, 85, 86]\n",
      "The sorted list in asending order: [86, 85, 56, 54, 43, 34, 22, 12]\n",
      "The sorted list is: [12, 22, 34, 43, 54, 56, 85, 86]\n"
     ]
    }
   ],
   "source": [
    "# sort a list in Python?\n",
    "# using sort method\n",
    "\n",
    "nums.sort(reverse=False)\n",
    "print(\"The sorted list in desending order is:\", nums)\n",
    "\n",
    "nums.sort(reverse=True)\n",
    "print(\"The sorted list in asending order:\", nums)\n",
    "\n",
    "#using sorted function\n",
    "\n",
    "sorted_list = sorted(nums)\n",
    "print(\"The sorted list is:\", sorted_list)"
   ]
  },
  {
   "cell_type": "markdown",
   "id": "fa8a0a1b",
   "metadata": {},
   "source": [
    "#Appending and Removing Elements"
   ]
  },
  {
   "cell_type": "code",
   "execution_count": 27,
   "id": "81785d81",
   "metadata": {},
   "outputs": [
    {
     "name": "stdout",
     "output_type": "stream",
     "text": [
      "After appending [1, 2, 3]\n",
      "After removing [1, 3]\n"
     ]
    }
   ],
   "source": [
    "my_list = []\n",
    "my_list.append(1)\n",
    "my_list.append(2)\n",
    "my_list.append(3)\n",
    "print(\"After appending\", my_list)\n",
    "\n",
    "my_list.remove(2)\n",
    "print(\"After removing\", my_list)\n",
    "\n"
   ]
  },
  {
   "cell_type": "markdown",
   "id": "de7eda7b",
   "metadata": {},
   "source": [
    "#Accessing Elements"
   ]
  },
  {
   "cell_type": "code",
   "execution_count": 28,
   "id": "759642f7",
   "metadata": {},
   "outputs": [
    {
     "name": "stdout",
     "output_type": "stream",
     "text": [
      " The second element in the list is: banana\n"
     ]
    }
   ],
   "source": [
    "fruits = [\"apple\", \"banana\", \"cherry\", \"dates\"]\n",
    "print(\" The second element in the list is:\", fruits[1])"
   ]
  },
  {
   "cell_type": "markdown",
   "id": "7353d0fd",
   "metadata": {},
   "source": [
    "#Slicing"
   ]
  },
  {
   "cell_type": "code",
   "execution_count": 38,
   "id": "d1fa51ca",
   "metadata": {},
   "outputs": [
    {
     "name": "stdout",
     "output_type": "stream",
     "text": [
      "The original list: [1, 2, 3, 4, 5, 6, 7, 8, 9, 10]\n",
      "The scliced list: [3, 4, 5, 6]\n"
     ]
    }
   ],
   "source": [
    "numbers = list(range(1,11))\n",
    "print(\"The original list:\", numbers)\n",
    "\n",
    "scliced_numbers = numbers[2:6]\n",
    "print(\"The scliced list:\", scliced_numbers)"
   ]
  },
  {
   "cell_type": "markdown",
   "id": "95295255",
   "metadata": {},
   "source": [
    "Set"
   ]
  },
  {
   "cell_type": "code",
   "execution_count": 43,
   "id": "d0e0b99c",
   "metadata": {},
   "outputs": [
    {
     "name": "stdout",
     "output_type": "stream",
     "text": [
      "set after adding elements: {1, 2, 3}\n",
      "set after removing 2: {1, 3}\n"
     ]
    }
   ],
   "source": [
    "my_set = set()\n",
    "my_set.add(1)\n",
    "my_set.add(2)\n",
    "my_set.add(3)\n",
    "print(\"set after adding elements:\", my_set)\n",
    "\n",
    "my_set.remove(2)\n",
    "print(\"set after removing 2:\", my_set)"
   ]
  },
  {
   "cell_type": "code",
   "execution_count": 46,
   "id": "1e3202c8",
   "metadata": {},
   "outputs": [
    {
     "name": "stdout",
     "output_type": "stream",
     "text": [
      "Union: {1, 2, 3, 4, 5, 6}\n",
      "Intersection: {1, 4}\n",
      "difference between (set1 - set2): {2, 3}\n",
      "difference between (set2 - set1): {5, 6}\n"
     ]
    }
   ],
   "source": [
    "set1 = {1, 2, 3, 4}\n",
    "set2 = {5, 6, 1, 4}\n",
    "\n",
    "union_set = set1.union(set2)\n",
    "print(\"Union:\", union_set)\n",
    "\n",
    "intersection_set = set1.intersection(set2)\n",
    "print(\"Intersection:\", intersection_set)\n",
    "\n",
    "difference_set = set1.difference(set2)\n",
    "print(\"difference between (set1 - set2):\", difference_set)\n",
    "\n",
    "difference_set_1 = set2.difference(set1)\n",
    "print(\"difference between (set2 - set1):\", difference_set_1)"
   ]
  },
  {
   "cell_type": "markdown",
   "id": "527e331d",
   "metadata": {},
   "source": [
    "Tuples"
   ]
  },
  {
   "cell_type": "code",
   "execution_count": 47,
   "id": "891a49a7",
   "metadata": {},
   "outputs": [
    {
     "name": "stdout",
     "output_type": "stream",
     "text": [
      "Latitude:  40.7128\n",
      "Longitude:  -74.006\n"
     ]
    }
   ],
   "source": [
    "coordinates = (40.7128, -74.0060)\n",
    "latitude = coordinates[0]\n",
    "longitude = coordinates[1]\n",
    "\n",
    "print(\"Latitude: \", latitude)\n",
    "print(\"Longitude: \", longitude)"
   ]
  },
  {
   "cell_type": "code",
   "execution_count": 52,
   "id": "2cc290b7",
   "metadata": {},
   "outputs": [
    {
     "name": "stdout",
     "output_type": "stream",
     "text": [
      "Name: Joan\n",
      "Age: 25\n",
      "City: New York\n"
     ]
    }
   ],
   "source": [
    "# Create a tuple (Packing)\n",
    "person = (\"Joan\", 25, \"New York\")\n",
    "\n",
    "# Unpack the tuple into individual variables\n",
    "name, age, city = person\n",
    "\n",
    "# Print the unpacked values\n",
    "print(\"Name:\", name)\n",
    "print(\"Age:\", age)\n",
    "print(\"City:\", city)\n"
   ]
  },
  {
   "cell_type": "code",
   "execution_count": 53,
   "id": "5d959849",
   "metadata": {},
   "outputs": [
    {
     "data": {
      "text/plain": [
       "'C:\\\\Users\\\\HP'"
      ]
     },
     "execution_count": 53,
     "metadata": {},
     "output_type": "execute_result"
    }
   ],
   "source": [
    "%pwd\n"
   ]
  },
  {
   "cell_type": "code",
   "execution_count": null,
   "id": "a7ddb3b9",
   "metadata": {},
   "outputs": [],
   "source": []
  }
 ],
 "metadata": {
  "kernelspec": {
   "display_name": "Python 3 (ipykernel)",
   "language": "python",
   "name": "python3"
  },
  "language_info": {
   "codemirror_mode": {
    "name": "ipython",
    "version": 3
   },
   "file_extension": ".py",
   "mimetype": "text/x-python",
   "name": "python",
   "nbconvert_exporter": "python",
   "pygments_lexer": "ipython3",
   "version": "3.9.13"
  }
 },
 "nbformat": 4,
 "nbformat_minor": 5
}
