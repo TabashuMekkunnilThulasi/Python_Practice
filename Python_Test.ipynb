{
 "cells": [
  {
   "cell_type": "markdown",
   "id": "53e7da46",
   "metadata": {},
   "source": [
    "# Section 1: Control Flow\n"
   ]
  },
  {
   "cell_type": "markdown",
   "id": "e29de152",
   "metadata": {},
   "source": [
    "1. If-Else Statement"
   ]
  },
  {
   "cell_type": "code",
   "execution_count": 1,
   "id": "3c1ed889",
   "metadata": {},
   "outputs": [],
   "source": [
    "def check_even_odd(num):\n",
    "    if num % 2 == 0:\n",
    "        print(\"Even\")\n",
    "    else:\n",
    "        print(\"Odd\")\n"
   ]
  },
  {
   "cell_type": "markdown",
   "id": "353db298",
   "metadata": {},
   "source": [
    "2. For Loop"
   ]
  },
  {
   "cell_type": "code",
   "execution_count": 2,
   "id": "200d9e40",
   "metadata": {},
   "outputs": [
    {
     "name": "stdout",
     "output_type": "stream",
     "text": [
      "23\n"
     ]
    }
   ],
   "source": [
    "def sum_of_multiples(n):\n",
    "    return sum(i for i in range(n) if i % 3 == 0 or i % 5 == 0)\n",
    "\n",
    "# Example\n",
    "print(sum_of_multiples(10))\n"
   ]
  },
  {
   "cell_type": "markdown",
   "id": "d2082f0b",
   "metadata": {},
   "source": [
    "3. While Loop"
   ]
  },
  {
   "cell_type": "code",
   "execution_count": 5,
   "id": "6f9c7c14",
   "metadata": {},
   "outputs": [
    {
     "name": "stdout",
     "output_type": "stream",
     "text": [
      "5\n",
      "4\n",
      "3\n",
      "2\n",
      "1\n",
      "0\n",
      "Liftoff!\n"
     ]
    }
   ],
   "source": [
    "def countdown(start):\n",
    "    while start >= 0:\n",
    "        print(start)\n",
    "        start -= 1\n",
    "    print(\"Liftoff!\")\n",
    "# Example\n",
    "countdown(5)\n"
   ]
  },
  {
   "cell_type": "markdown",
   "id": "8103e8d7",
   "metadata": {},
   "source": [
    "# Section 2: NumPy\n"
   ]
  },
  {
   "cell_type": "markdown",
   "id": "803551c9",
   "metadata": {},
   "source": [
    "1. Create an Array"
   ]
  },
  {
   "cell_type": "code",
   "execution_count": 6,
   "id": "c86901ca",
   "metadata": {},
   "outputs": [
    {
     "name": "stdout",
     "output_type": "stream",
     "text": [
      "[0 1 2 3 4 5 6 7 8 9]\n"
     ]
    }
   ],
   "source": [
    "import numpy as np\n",
    "\n",
    "array = np.arange(10)\n",
    "print(array)\n"
   ]
  },
  {
   "cell_type": "markdown",
   "id": "550176c3",
   "metadata": {},
   "source": [
    "2. Array Operations"
   ]
  },
  {
   "cell_type": "code",
   "execution_count": 7,
   "id": "d7f761d1",
   "metadata": {},
   "outputs": [
    {
     "name": "stdout",
     "output_type": "stream",
     "text": [
      "Addition: [11 22 33 44]\n",
      "Multiplication: [ 10  40  90 160]\n"
     ]
    }
   ],
   "source": [
    "a = np.array([1, 2, 3, 4])\n",
    "b = np.array([10, 20, 30, 40])\n",
    "\n",
    "print(\"Addition:\", a + b)\n",
    "print(\"Multiplication:\", a * b)\n"
   ]
  },
  {
   "cell_type": "markdown",
   "id": "d6679ac8",
   "metadata": {},
   "source": [
    "3. Matrix Operations"
   ]
  },
  {
   "cell_type": "code",
   "execution_count": 8,
   "id": "c487acc3",
   "metadata": {},
   "outputs": [
    {
     "name": "stdout",
     "output_type": "stream",
     "text": [
      "[[ 30  24  18]\n",
      " [ 84  69  54]\n",
      " [138 114  90]]\n"
     ]
    }
   ],
   "source": [
    "matx1 = np.array([[1, 2, 3], [4, 5, 6], [7, 8, 9]])\n",
    "matx2 = np.array([[9, 8, 7], [6, 5, 4], [3, 2, 1]])\n",
    "\n",
    "result = np.dot(matx1, matx2)\n",
    "print(result)\n"
   ]
  },
  {
   "cell_type": "markdown",
   "id": "ac5f72f2",
   "metadata": {},
   "source": [
    "# Section 3: Pandas\n"
   ]
  },
  {
   "cell_type": "markdown",
   "id": "55f3307c",
   "metadata": {},
   "source": [
    "1. Creating a DataFrame"
   ]
  },
  {
   "cell_type": "code",
   "execution_count": 9,
   "id": "0b03f902",
   "metadata": {},
   "outputs": [
    {
     "name": "stderr",
     "output_type": "stream",
     "text": [
      "C:\\Users\\HP\\anaconda3\\lib\\site-packages\\pandas\\core\\computation\\expressions.py:21: UserWarning: Pandas requires version '2.8.4' or newer of 'numexpr' (version '2.8.3' currently installed).\n",
      "  from pandas.core.computation.check import NUMEXPR_INSTALLED\n",
      "C:\\Users\\HP\\anaconda3\\lib\\site-packages\\pandas\\core\\arrays\\masked.py:60: UserWarning: Pandas requires version '1.3.6' or newer of 'bottleneck' (version '1.3.5' currently installed).\n",
      "  from pandas.core import (\n"
     ]
    },
    {
     "name": "stdout",
     "output_type": "stream",
     "text": [
      "     Name  Age         City\n",
      "0   Boyde   23     New York\n",
      "1  Barbie   25  Los Angeles\n",
      "2    Cyan   30      Chicago\n"
     ]
    }
   ],
   "source": [
    "import pandas as pd\n",
    "\n",
    "data = {\n",
    "    \"Name\": [\"Boyde\", \"Barbie\", \"Cyan\"],\n",
    "    \"Age\": [23, 25, 30],\n",
    "    \"City\": [\"New York\", \"Los Angeles\", \"Chicago\"]\n",
    "}\n",
    "\n",
    "df = pd.DataFrame(data)\n",
    "print(df)\n"
   ]
  },
  {
   "cell_type": "markdown",
   "id": "25935f47",
   "metadata": {},
   "source": [
    "2. DataFrame Operations"
   ]
  },
  {
   "cell_type": "code",
   "execution_count": 10,
   "id": "d2d59215",
   "metadata": {},
   "outputs": [
    {
     "name": "stdout",
     "output_type": "stream",
     "text": [
      "     Name  Age         City  Salary\n",
      "1  Barbie   25  Los Angeles   60000\n",
      "2    Cyan   30      Chicago   70000\n"
     ]
    }
   ],
   "source": [
    "df[\"Salary\"] = [50000, 60000, 70000]\n",
    "filtered_df = df[df[\"Age\"] > 24]\n",
    "print(filtered_df)\n"
   ]
  },
  {
   "cell_type": "markdown",
   "id": "89518b52",
   "metadata": {},
   "source": [
    "# Section 4: Visualization"
   ]
  },
  {
   "cell_type": "markdown",
   "id": "ab2c5996",
   "metadata": {},
   "source": [
    "1. Line Plot"
   ]
  },
  {
   "cell_type": "code",
   "execution_count": 11,
   "id": "a8047333",
   "metadata": {},
   "outputs": [
    {
     "data": {
      "image/png": "[encoded data removed]",
      "text/plain": [
       "<Figure size 640x480 with 1 Axes>"
      ]
     },
     "metadata": {},
     "output_type": "display_data"
    }
   ],
   "source": [
    "import matplotlib.pyplot as plt\n",
    "\n",
    "x = range(11)\n",
    "y = [i**2 for i in x]\n",
    "\n",
    "plt.plot(x, y)\n",
    "plt.title(\"Line Plot of y = x^2\")\n",
    "plt.xlabel(\"x\")\n",
    "plt.ylabel(\"y\")\n",
    "plt.show()\n"
   ]
  },
  {
   "cell_type": "markdown",
   "id": "18c203db",
   "metadata": {},
   "source": [
    "2. Bar Plot"
   ]
  },
  {
   "cell_type": "code",
   "execution_count": 12,
   "id": "a218f51d",
   "metadata": {},
   "outputs": [
    {
     "data": {
      "image/png": "[encoded data removed]",
      "text/plain": [
       "<Figure size 640x480 with 1 Axes>"
      ]
     },
     "metadata": {},
     "output_type": "display_data"
    }
   ],
   "source": [
    "from collections import Counter\n",
    "\n",
    "data = ['apple', 'banana', 'apple', 'orange', 'banana', 'apple']\n",
    "counts = Counter(data)\n",
    "\n",
    "plt.bar(counts.keys(), counts.values())\n",
    "plt.title(\"Frequency of Fruits\")\n",
    "plt.xlabel(\"Fruits\")\n",
    "plt.ylabel(\"Count\")\n",
    "plt.show()\n"
   ]
  },
  {
   "cell_type": "markdown",
   "id": "74ef83b1",
   "metadata": {},
   "source": [
    "3. Scatter Plot"
   ]
  },
  {
   "cell_type": "code",
   "execution_count": 15,
   "id": "0537d99a",
   "metadata": {},
   "outputs": [
    {
     "data": {
      "image/png": "[encoded data removed]",
      "text/plain": [
       "<Figure size 640x480 with 1 Axes>"
      ]
     },
     "metadata": {},
     "output_type": "display_data"
    }
   ],
   "source": [
    "import numpy as np\n",
    "\n",
    "x = np.random.rand(80)\n",
    "y = np.random.rand(80)\n",
    "\n",
    "plt.scatter(x, y)\n",
    "plt.title(\"Scatter Plot\")\n",
    "plt.xlabel(\"x\")\n",
    "plt.ylabel(\"y\")\n",
    "plt.show()\n"
   ]
  },
  {
   "cell_type": "code",
   "execution_count": null,
   "id": "5d75cd25",
   "metadata": {},
   "outputs": [],
   "source": []
  }
 ],
 "metadata": {
  "kernelspec": {
   "display_name": "Python 3 (ipykernel)",
   "language": "python",
   "name": "python3"
  },
  "language_info": {
   "codemirror_mode": {
    "name": "ipython",
    "version": 3
   },
   "file_extension": ".py",
   "mimetype": "text/x-python",
   "name": "python",
   "nbconvert_exporter": "python",
   "pygments_lexer": "ipython3",
   "version": "3.9.13"
  }
 },
 "nbformat": 4,
 "nbformat_minor": 5
}
